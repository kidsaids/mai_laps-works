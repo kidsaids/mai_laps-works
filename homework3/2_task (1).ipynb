{
 "cells": [
  {
   "cell_type": "markdown",
   "id": "246424fe",
   "metadata": {},
   "source": [
    "# Самостоятельная работа #2\n",
    "### Задание 1\n",
    "\n",
    "Допишите функцию, которая принимает 2 числа, сравнивает между собой и возвращает наименьшее."
   ]
  },
  {
   "cell_type": "code",
   "execution_count": null,
   "id": "1b225d18",
   "metadata": {},
   "outputs": [],
   "source": [
    "def minimal():\n",
    "    q = int(input())\n",
    "    w = int (input())\n",
    "    if q > w :\n",
    "        print(w)\n",
    "    elif w > q:\n",
    "        print(q)\n",
    "    elif q == w:\n",
    "        print ('q=w')\n",
    "\n",
    "minimal()"
   ]
  },
  {
   "cell_type": "markdown",
   "id": "9342d85f",
   "metadata": {},
   "source": [
    "### Задание 2\n",
    "\n",
    "Допишите функцию, которая принимает 3 числа, сравнивает между собой и возвращает наименьшее."
   ]
  },
  {
   "cell_type": "code",
   "execution_count": null,
   "id": "5371aa95",
   "metadata": {},
   "outputs": [],
   "source": [
    "def minimal():\n",
    "    q = int(input())\n",
    "    w = int(input())\n",
    "    e = int(input())\n",
    "    if q == w  == e:\n",
    "        print('q=w=e')\n",
    "    elif q <= w and q <= e:\n",
    "        return q\n",
    "    elif w <= q and w <= e:\n",
    "        return w\n",
    "    else:\n",
    "        return e\n",
    "\n",
    "\n",
    "minimal() "
   ]
  },
  {
   "cell_type": "markdown",
   "id": "9ef85dfd",
   "metadata": {},
   "source": [
    "### Задание 2\n",
    "\n",
    "Допишите функцию, которая принимает 3 числа, сравнивает между собой и возвращает количество совпадающих чисел. Соответственно, программа может возвращать одно из трех чисел: 3 - если совпадают все, 2 - если совпадают 2 числа, 0 - если все числа различны."
   ]
  },
  {
   "cell_type": "code",
   "execution_count": null,
   "id": "ec6a169c",
   "metadata": {},
   "outputs": [],
   "source": [
    "def minimal():\n",
    "q = int(input())\n",
    "w = int(input())\n",
    "e = int(input())\n",
    "if q == w and q == e:\n",
    "    print('3')\n",
    "elif (q == w and w != e) or (q != w and w == e ):\n",
    "    print('2')\n",
    "elif q != w and w != e:\n",
    "    print('0')\n",
    "    \n",
    "minimal()"
   ]
  },
  {
   "cell_type": "code",
   "execution_count": null,
   "id": "3a31c8a0",
   "metadata": {},
   "outputs": [],
   "source": []
  }
 ],
 "metadata": {
  "kernelspec": {
   "display_name": "Python 3",
   "language": "python",
   "name": "python3"
  },
  "language_info": {
   "codemirror_mode": {
    "name": "ipython",
    "version": 3
   },
   "file_extension": ".py",
   "mimetype": "text/x-python",
   "name": "python",
   "nbconvert_exporter": "python",
   "pygments_lexer": "ipython3",
   "version": "3.8.8"
  }
 },
 "nbformat": 4,
 "nbformat_minor": 5
}
