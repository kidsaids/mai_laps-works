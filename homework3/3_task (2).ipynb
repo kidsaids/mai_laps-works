{
 "cells": [
  {
   "cell_type": "markdown",
   "id": "657be689",
   "metadata": {},
   "source": [
    "# Самостоятельное задание #3\n",
    "\n",
    "\n",
    "### Задание 1\n",
    "\n",
    "Допишите функцию, которая принимает массив из 10 чисел и возвращает их сумму."
   ]
  },
  {
   "cell_type": "code",
   "execution_count": 1,
   "id": "18ffcbab",
   "metadata": {},
   "outputs": [],
   "source": [
    "def sum_of_ten_numbers(arr: list) ->  float:\n",
    "        if len(arr) > 10:\n",
    "            print('Len of arrat > 10!')\n",
    "            return\n",
    "        sum = 0\n",
    "        for i in arr:\n",
    "            sum += i\n",
    "        return sum\n",
    "    "
   ]
  },
  {
   "cell_type": "code",
   "execution_count": 24,
   "id": "2f78a96c",
   "metadata": {},
   "outputs": [
    {
     "name": "stdout",
     "output_type": "stream",
     "text": [
      "55\n"
     ]
    }
   ],
   "source": [
    "arr = [1, 2, 3, 4, 5, 6, 7, 8, 9, 10]\n",
    "print (sum_of_ten_numbers(arr))"
   ]
  },
  {
   "cell_type": "markdown",
   "id": "eb78afc0",
   "metadata": {},
   "source": [
    "\n",
    "### Задание 2\n",
    "\n",
    "Допишите функцию, которая принимает массив чисел и возвращает количество чисел равных нулю."
   ]
  },
  {
   "cell_type": "code",
   "execution_count": null,
   "id": "51d1e2b1",
   "metadata": {},
   "outputs": [],
   "source": [
    "def num_of_zeros(arr:list, eps:float = 1e -08) -> int:\n",
    "    sum = 0\n",
    "    for i in arr:\n",
    "        if abs(i) < eps:\n",
    "            sum += 1\n",
    "    return sum"
   ]
  },
  {
   "cell_type": "code",
   "execution_count": 32,
   "id": "7372b4ea",
   "metadata": {},
   "outputs": [
    {
     "data": {
      "text/plain": [
       "2"
      ]
     },
     "execution_count": 32,
     "metadata": {},
     "output_type": "execute_result"
    }
   ],
   "source": [
    "arr = [1,2,3,0,1,0.000000000000001,567,0, ]\n",
    "num_of_zeros(arr)"
   ]
  },
  {
   "cell_type": "markdown",
   "id": "570d5a26",
   "metadata": {},
   "source": [
    "\n",
    "### Задание 3\n",
    "\n",
    "Напишите программу, в которой задается  натуральное число n и выводится лестница из n ступенек, i-я ступенька должна состоять из чисел от 1 до i без пробелов."
   ]
  },
  {
   "cell_type": "code",
   "execution_count": 48,
   "id": "69fd0501",
   "metadata": {},
   "outputs": [],
   "source": [
    "def ladder (n: int) -> int: #функция 'лестница'\n",
    "    for i in range(1, n + 1):\n",
    "        res = ''\n",
    "        for j in range(1, i + 1):\n",
    "            res += str(j)\n",
    "    print(res)"
   ]
  },
  {
   "cell_type": "code",
   "execution_count": 44,
   "id": "f3874828",
   "metadata": {},
   "outputs": [
    {
     "name": "stdout",
     "output_type": "stream",
     "text": [
      "12345678910\n"
     ]
    }
   ],
   "source": [
    "ladder(10)"
   ]
  },
  {
   "cell_type": "markdown",
   "id": "b6ef1c44",
   "metadata": {},
   "source": [
    "\n",
    "### Задание 4\n",
    "\n",
    "Напишите программу, в которой задается натуральное число n и выводится пирамида из n ступенек, i-я ступень должна состоять из чисел от 1 до i и обратно без пробелов."
   ]
  },
  {
   "cell_type": "code",
   "execution_count": 3,
   "id": "6b038f87",
   "metadata": {},
   "outputs": [
    {
     "name": "stdout",
     "output_type": "stream",
     "text": [
      "    11\n",
      "   1221\n",
      "  123321\n",
      " 12344321\n",
      "1234554321\n"
     ]
    }
   ],
   "source": [
    "def pirramid(n: int) -> int:\n",
    "    for i in range(1, n+1):\n",
    "        print (' '*(n-i), end = '')\n",
    "        for a in range (1, i+1):\n",
    "            print (a, end = '')\n",
    "        for a in range (i,0,-1):\n",
    "            print(a, end = '')\n",
    "        else:\n",
    "            print('')\n",
    "pirramid(5)\n",
    "    "
   ]
  },
  {
   "cell_type": "code",
   "execution_count": 2,
   "id": "95d2991e",
   "metadata": {},
   "outputs": [
    {
     "data": {
      "text/plain": [
       "'12345654321'"
      ]
     },
     "execution_count": 2,
     "metadata": {},
     "output_type": "execute_result"
    }
   ],
   "source": [
    "a = '123456'\n",
    "a + a [-2::-1]"
   ]
  },
  {
   "cell_type": "markdown",
   "id": "b4552ef5",
   "metadata": {},
   "source": [
    "\n",
    "### Задание 5\n",
    "\n",
    "Напишите программу, в которой задается натуральное число n и выводится ромб из `n*2-1` ступенек, i-я ступень должна состоять из чисел от 1 до i и обратно без пробелов."
   ]
  },
  {
   "cell_type": "code",
   "execution_count": 2,
   "id": "5eaae897",
   "metadata": {},
   "outputs": [
    {
     "name": "stdout",
     "output_type": "stream",
     "text": [
      "        11\n",
      "       1221\n",
      "      123321\n",
      "     12344321\n",
      "    1234554321\n",
      "   123456654321\n",
      "  12345677654321\n",
      " 1234567887654321\n",
      "  12345677654321\n",
      "   123456654321\n",
      "    1234554321\n",
      "     12344321\n",
      "      123321\n",
      "       1221\n",
      "        11\n"
     ]
    }
   ],
   "source": [
    "def rombik(n:int) -> int:\n",
    "    for i in range (1,n):\n",
    "        print (' '*(n-i+1), end = '')\n",
    "        for a in range (1,i+1):\n",
    "            print (a,end = '')\n",
    "        for a in range (i,0,-1):\n",
    "            print (a,end = '')\n",
    "        else:\n",
    "            print('')\n",
    "    for i in range (n,0,-1):\n",
    "        print (' '*(n-i+1), end = '')\n",
    "        for a in range (1,i+1):\n",
    "            print (a,end = '')\n",
    "        for a in range (i,0,-1):\n",
    "            print (a,end = '')\n",
    "        else:\n",
    "            print('')\n",
    "            \n",
    "rombik(8)"
   ]
  },
  {
   "cell_type": "code",
   "execution_count": null,
   "id": "135079eb",
   "metadata": {},
   "outputs": [],
   "source": []
  }
 ],
 "metadata": {
  "kernelspec": {
   "display_name": "Python 3",
   "language": "python",
   "name": "python3"
  },
  "language_info": {
   "codemirror_mode": {
    "name": "ipython",
    "version": 3
   },
   "file_extension": ".py",
   "mimetype": "text/x-python",
   "name": "python",
   "nbconvert_exporter": "python",
   "pygments_lexer": "ipython3",
   "version": "3.8.8"
  }
 },
 "nbformat": 4,
 "nbformat_minor": 5
}
